{
  "nbformat": 4,
  "nbformat_minor": 0,
  "metadata": {
    "colab": {
      "provenance": [],
      "authorship_tag": "ABX9TyM/s9/ErCPs+uSO7FXclQz/",
      "include_colab_link": true
    },
    "kernelspec": {
      "name": "python3",
      "display_name": "Python 3"
    },
    "language_info": {
      "name": "python"
    }
  },
  "cells": [
    {
      "cell_type": "markdown",
      "metadata": {
        "id": "view-in-github",
        "colab_type": "text"
      },
      "source": [
        "<a href=\"https://colab.research.google.com/github/beatrizvih/p_a2025/blob/main/Aula_de_Operadores.ipynb\" target=\"_parent\"><img src=\"https://colab.research.google.com/assets/colab-badge.svg\" alt=\"Open In Colab\"/></a>"
      ]
    },
    {
      "cell_type": "code",
      "execution_count": 1,
      "metadata": {
        "colab": {
          "base_uri": "https://localhost:8080/"
        },
        "id": "mN-3woA5dv1y",
        "outputId": "d1287993-802a-40aa-fbf4-524df680dfc4"
      },
      "outputs": [
        {
          "output_type": "stream",
          "name": "stdout",
          "text": [
            "A área do quadrado é igual 16\n"
          ]
        }
      ],
      "source": [
        "l = 4\n",
        "a=l*l\n",
        "print ('A área do quadrado é igual', a)"
      ]
    },
    {
      "cell_type": "markdown",
      "source": [
        "## SOMA\n"
      ],
      "metadata": {
        "id": "kx4rTuAggwso"
      }
    },
    {
      "cell_type": "code",
      "source": [
        "3+5"
      ],
      "metadata": {
        "colab": {
          "base_uri": "https://localhost:8080/"
        },
        "id": "1Lo3FYgIg4o9",
        "outputId": "16bc7d9c-a3f4-4efc-844e-34350c7d588f"
      },
      "execution_count": 24,
      "outputs": [
        {
          "output_type": "execute_result",
          "data": {
            "text/plain": [
              "8"
            ]
          },
          "metadata": {},
          "execution_count": 24
        }
      ]
    },
    {
      "cell_type": "markdown",
      "source": [
        "subtração\n"
      ],
      "metadata": {
        "id": "MCOJ7oLthL9V"
      }
    },
    {
      "cell_type": "code",
      "source": [
        "9-4\n"
      ],
      "metadata": {
        "colab": {
          "base_uri": "https://localhost:8080/"
        },
        "id": "XzL8Lqd3hOC0",
        "outputId": "8484102a-e228-4cd2-8934-b22f010be253"
      },
      "execution_count": 25,
      "outputs": [
        {
          "output_type": "execute_result",
          "data": {
            "text/plain": [
              "5"
            ]
          },
          "metadata": {},
          "execution_count": 25
        }
      ]
    },
    {
      "cell_type": "markdown",
      "source": [
        "multiplicação"
      ],
      "metadata": {
        "id": "5nsfinyohT8n"
      }
    },
    {
      "cell_type": "code",
      "source": [
        "5*6\n"
      ],
      "metadata": {
        "colab": {
          "base_uri": "https://localhost:8080/"
        },
        "id": "iNbB2rPJhZw8",
        "outputId": "262ebdda-65a8-4d11-fc37-8e7de7b92f91"
      },
      "execution_count": 26,
      "outputs": [
        {
          "output_type": "execute_result",
          "data": {
            "text/plain": [
              "30"
            ]
          },
          "metadata": {},
          "execution_count": 26
        }
      ]
    },
    {
      "cell_type": "markdown",
      "source": [
        "divisão\n"
      ],
      "metadata": {
        "id": "BV7M5OHIhdH4"
      }
    },
    {
      "cell_type": "code",
      "source": [
        "0*8"
      ],
      "metadata": {
        "colab": {
          "base_uri": "https://localhost:8080/"
        },
        "id": "E-M7s5Pahfco",
        "outputId": "99628252-733f-4a2a-9743-ef3bed1d3f22"
      },
      "execution_count": 30,
      "outputs": [
        {
          "output_type": "execute_result",
          "data": {
            "text/plain": [
              "0"
            ]
          },
          "metadata": {},
          "execution_count": 30
        }
      ]
    },
    {
      "cell_type": "code",
      "source": [
        "\n",
        "l = 5\n",
        "l = 62\n",
        "a=l*l\n",
        "print ('a área da base e igual ', a)"
      ],
      "metadata": {
        "colab": {
          "base_uri": "https://localhost:8080/"
        },
        "id": "nBQwipTfh4l6",
        "outputId": "df3be514-838b-4b77-cdda-f5eff438f217"
      },
      "execution_count": 44,
      "outputs": [
        {
          "output_type": "stream",
          "name": "stdout",
          "text": [
            "a área da base e igual  3844\n"
          ]
        }
      ]
    },
    {
      "cell_type": "markdown",
      "source": [],
      "metadata": {
        "id": "cDNOawpfjKL3"
      }
    },
    {
      "cell_type": "markdown",
      "source": [
        "# igualdade"
      ],
      "metadata": {
        "id": "6A5lTVLAilS7"
      }
    },
    {
      "cell_type": "code",
      "source": [
        "a = 4\n",
        "a==4"
      ],
      "metadata": {
        "colab": {
          "base_uri": "https://localhost:8080/"
        },
        "id": "DtIAnM9dinY2",
        "outputId": "eff928d2-62ba-4218-aa3d-df18d4501c08"
      },
      "execution_count": 69,
      "outputs": [
        {
          "output_type": "execute_result",
          "data": {
            "text/plain": [
              "True"
            ]
          },
          "metadata": {},
          "execution_count": 69
        }
      ]
    },
    {
      "cell_type": "markdown",
      "source": [
        "Expoente\n"
      ],
      "metadata": {
        "id": "8Y5xU4VnjORg"
      }
    },
    {
      "cell_type": "code",
      "source": [
        "4**3\n"
      ],
      "metadata": {
        "colab": {
          "base_uri": "https://localhost:8080/"
        },
        "id": "7o77LwLojQ94",
        "outputId": "0cf74a58-14e4-473f-96ad-c362aac5b0ca"
      },
      "execution_count": 46,
      "outputs": [
        {
          "output_type": "execute_result",
          "data": {
            "text/plain": [
              "64"
            ]
          },
          "metadata": {},
          "execution_count": 46
        }
      ]
    },
    {
      "cell_type": "markdown",
      "source": [
        "## Maior, menor, maior ou igual menor ou igual"
      ],
      "metadata": {
        "id": "ogTK31KZkP79"
      }
    },
    {
      "cell_type": "code",
      "source": [
        "5>2"
      ],
      "metadata": {
        "colab": {
          "base_uri": "https://localhost:8080/"
        },
        "id": "7b6d5j6hkeS8",
        "outputId": "92013cbb-50a5-4c04-9dda-4f3023443d9d"
      },
      "execution_count": 47,
      "outputs": [
        {
          "output_type": "execute_result",
          "data": {
            "text/plain": [
              "True"
            ]
          },
          "metadata": {},
          "execution_count": 47
        }
      ]
    },
    {
      "cell_type": "code",
      "source": [
        "5>6"
      ],
      "metadata": {
        "colab": {
          "base_uri": "https://localhost:8080/"
        },
        "id": "Q5WFbNEgku7d",
        "outputId": "1212e7a7-4a0b-4971-d0df-83d31e8cfcc7"
      },
      "execution_count": 48,
      "outputs": [
        {
          "output_type": "execute_result",
          "data": {
            "text/plain": [
              "False"
            ]
          },
          "metadata": {},
          "execution_count": 48
        }
      ]
    },
    {
      "cell_type": "code",
      "source": [
        "5<6\n"
      ],
      "metadata": {
        "colab": {
          "base_uri": "https://localhost:8080/"
        },
        "id": "E-_l6k7akzBh",
        "outputId": "018f6cd0-fe56-49d0-d395-1b92993b4b24"
      },
      "execution_count": 50,
      "outputs": [
        {
          "output_type": "execute_result",
          "data": {
            "text/plain": [
              "True"
            ]
          },
          "metadata": {},
          "execution_count": 50
        }
      ]
    },
    {
      "cell_type": "code",
      "source": [
        "5<4"
      ],
      "metadata": {
        "colab": {
          "base_uri": "https://localhost:8080/"
        },
        "id": "hXorpbCGlCh4",
        "outputId": "519d32d5-f6c0-490e-ddf5-8437aaa03e8e"
      },
      "execution_count": 51,
      "outputs": [
        {
          "output_type": "execute_result",
          "data": {
            "text/plain": [
              "False"
            ]
          },
          "metadata": {},
          "execution_count": 51
        }
      ]
    },
    {
      "cell_type": "code",
      "source": [
        "56>32"
      ],
      "metadata": {
        "colab": {
          "base_uri": "https://localhost:8080/"
        },
        "id": "XyP8PleYlTKP",
        "outputId": "4f7d6a1f-e2af-4dba-e613-c2aaf0ca7e73"
      },
      "execution_count": 52,
      "outputs": [
        {
          "output_type": "execute_result",
          "data": {
            "text/plain": [
              "True"
            ]
          },
          "metadata": {},
          "execution_count": 52
        }
      ]
    },
    {
      "cell_type": "code",
      "source": [
        "5>=5"
      ],
      "metadata": {
        "colab": {
          "base_uri": "https://localhost:8080/"
        },
        "id": "uoQkyyxAleuA",
        "outputId": "d1745c30-1cf7-4747-fd16-035154837b2c"
      },
      "execution_count": 55,
      "outputs": [
        {
          "output_type": "execute_result",
          "data": {
            "text/plain": [
              "True"
            ]
          },
          "metadata": {},
          "execution_count": 55
        }
      ]
    },
    {
      "cell_type": "code",
      "source": [
        "6<=6"
      ],
      "metadata": {
        "colab": {
          "base_uri": "https://localhost:8080/"
        },
        "id": "ignh-u6fl2wh",
        "outputId": "acb8a291-a126-4e01-be16-fbf379bb5858"
      },
      "execution_count": 56,
      "outputs": [
        {
          "output_type": "execute_result",
          "data": {
            "text/plain": [
              "True"
            ]
          },
          "metadata": {},
          "execution_count": 56
        }
      ]
    },
    {
      "cell_type": "code",
      "source": [
        "\n",
        "5-6+8+15*(6/2)+4-9\n"
      ],
      "metadata": {
        "colab": {
          "base_uri": "https://localhost:8080/"
        },
        "id": "ik5MJeH5mPeR",
        "outputId": "6e373c12-29c1-4c4a-ccc1-31bfc11fb527"
      },
      "execution_count": 59,
      "outputs": [
        {
          "output_type": "execute_result",
          "data": {
            "text/plain": [
              "47.0"
            ]
          },
          "metadata": {},
          "execution_count": 59
        }
      ]
    },
    {
      "cell_type": "markdown",
      "source": [],
      "metadata": {
        "id": "r5HlnCkZmsO9"
      }
    },
    {
      "cell_type": "markdown",
      "source": [
        "## divisão"
      ],
      "metadata": {
        "id": "U9VJMTF6mufL"
      }
    },
    {
      "cell_type": "code",
      "source": [
        "6/2"
      ],
      "metadata": {
        "colab": {
          "base_uri": "https://localhost:8080/"
        },
        "id": "jA1AWdfAmz9D",
        "outputId": "9ccc72fb-fd2c-4f61-93bb-242119567ad3"
      },
      "execution_count": 61,
      "outputs": [
        {
          "output_type": "execute_result",
          "data": {
            "text/plain": [
              "3.0"
            ]
          },
          "metadata": {},
          "execution_count": 61
        }
      ]
    },
    {
      "cell_type": "code",
      "source": [
        "50/5"
      ],
      "metadata": {
        "colab": {
          "base_uri": "https://localhost:8080/"
        },
        "id": "c8BLFgKQm2ic",
        "outputId": "169e2b1f-c4a2-4b9c-90ff-98a28d957095"
      },
      "execution_count": 62,
      "outputs": [
        {
          "output_type": "execute_result",
          "data": {
            "text/plain": [
              "10.0"
            ]
          },
          "metadata": {},
          "execution_count": 62
        }
      ]
    },
    {
      "cell_type": "code",
      "source": [
        "63/8"
      ],
      "metadata": {
        "colab": {
          "base_uri": "https://localhost:8080/"
        },
        "id": "vtZsBEV8m9-s",
        "outputId": "bd2fa640-b434-4d50-950d-3064e61fe092"
      },
      "execution_count": 63,
      "outputs": [
        {
          "output_type": "execute_result",
          "data": {
            "text/plain": [
              "7.875"
            ]
          },
          "metadata": {},
          "execution_count": 63
        }
      ]
    },
    {
      "cell_type": "code",
      "source": [
        "63/546"
      ],
      "metadata": {
        "colab": {
          "base_uri": "https://localhost:8080/"
        },
        "id": "CWoNzXkkm_XM",
        "outputId": "cb2cc05e-a4f1-4da4-9877-ffa06b55d38c"
      },
      "execution_count": 64,
      "outputs": [
        {
          "output_type": "execute_result",
          "data": {
            "text/plain": [
              "0.11538461538461539"
            ]
          },
          "metadata": {},
          "execution_count": 64
        }
      ]
    },
    {
      "cell_type": "code",
      "source": [
        "6/7"
      ],
      "metadata": {
        "colab": {
          "base_uri": "https://localhost:8080/"
        },
        "id": "uE2GvvwInB30",
        "outputId": "bb7c7fde-e90c-4495-8cf9-8aee7b5480cb"
      },
      "execution_count": 66,
      "outputs": [
        {
          "output_type": "execute_result",
          "data": {
            "text/plain": [
              "0.8571428571428571"
            ]
          },
          "metadata": {},
          "execution_count": 66
        }
      ]
    },
    {
      "cell_type": "markdown",
      "source": [
        "## diferente\n"
      ],
      "metadata": {
        "id": "L-S9GXSjnY9p"
      }
    },
    {
      "cell_type": "code",
      "source": [
        "a!=4"
      ],
      "metadata": {
        "colab": {
          "base_uri": "https://localhost:8080/"
        },
        "id": "dPp0hISmneue",
        "outputId": "26e9f999-b923-4dde-d54f-f1c31ed7852a"
      },
      "execution_count": 70,
      "outputs": [
        {
          "output_type": "execute_result",
          "data": {
            "text/plain": [
              "False"
            ]
          },
          "metadata": {},
          "execution_count": 70
        }
      ]
    },
    {
      "cell_type": "code",
      "source": [],
      "metadata": {
        "id": "2I2bdzkgnivO"
      },
      "execution_count": null,
      "outputs": []
    },
    {
      "cell_type": "markdown",
      "source": [
        "## Variaveis"
      ],
      "metadata": {
        "id": "tJgWDDkMny8_"
      }
    },
    {
      "cell_type": "code",
      "source": [
        "nome = 'beatriz'\n",
        "sobrenome = 'vitoria'\n",
        "\n",
        "print (' meu nome é' + ' ' + nome + ' ' + ' ' +sobrenome)"
      ],
      "metadata": {
        "colab": {
          "base_uri": "https://localhost:8080/"
        },
        "id": "Se5eJh08nybI",
        "outputId": "f4570f4b-26a2-4ef7-a6cb-9bc4c55f0578"
      },
      "execution_count": 72,
      "outputs": [
        {
          "output_type": "stream",
          "name": "stdout",
          "text": [
            " meu nome é beatriz  vitoria\n"
          ]
        }
      ]
    },
    {
      "cell_type": "code",
      "source": [
        "nome1 = str(input('digite seu nome: '))\n",
        "sobrenome1 = str(input('digite seu sobrenome: '))\n",
        "\n",
        "print('meu nome é ' + nome1 + ' ' + sobrenome1)"
      ],
      "metadata": {
        "colab": {
          "base_uri": "https://localhost:8080/"
        },
        "id": "72ntL9bLnyX_",
        "outputId": "d7fd5120-e89d-491b-8d0e-5ce299daad6d"
      },
      "execution_count": 80,
      "outputs": [
        {
          "output_type": "stream",
          "name": "stdout",
          "text": [
            "digite seu nome: beatriz \n",
            "digite seu sobrenome: vitoria \n",
            "meu nome é beatriz  vitoria \n"
          ]
        }
      ]
    },
    {
      "cell_type": "code",
      "source": [
        "print (nome)"
      ],
      "metadata": {
        "colab": {
          "base_uri": "https://localhost:8080/"
        },
        "id": "0s50HlhyschJ",
        "outputId": "ed8b6373-6272-4c41-99d5-f56fbd13fb6e"
      },
      "execution_count": 82,
      "outputs": [
        {
          "output_type": "stream",
          "name": "stdout",
          "text": [
            "beatriz\n"
          ]
        }
      ]
    },
    {
      "cell_type": "code",
      "source": [
        "print (sobrenome)"
      ],
      "metadata": {
        "colab": {
          "base_uri": "https://localhost:8080/"
        },
        "id": "Sq-uoUr8ti-J",
        "outputId": "d52451cb-3722-4e35-d02a-b18ba609b5ef"
      },
      "execution_count": 83,
      "outputs": [
        {
          "output_type": "stream",
          "name": "stdout",
          "text": [
            "vitoria\n"
          ]
        }
      ]
    },
    {
      "cell_type": "markdown",
      "source": [
        "##Quadrado\n"
      ],
      "metadata": {
        "id": "urv5ctZbttQp"
      }
    },
    {
      "cell_type": "code",
      "source": [
        "#entrada\n",
        "lado = int(input('a area do quadrado é: '))\n",
        "#processamento\n",
        "area = lado * lado\n",
        "#saida\n",
        "\n",
        "print('o resulatdo é ',  area)"
      ],
      "metadata": {
        "colab": {
          "base_uri": "https://localhost:8080/"
        },
        "id": "n63MCBpRty8G",
        "outputId": "0b2da31d-c20f-4302-c1e1-b25ee12c27a9"
      },
      "execution_count": 105,
      "outputs": [
        {
          "output_type": "stream",
          "name": "stdout",
          "text": [
            "a area do quadrado é: 87\n",
            "o resulatdo é  7569\n"
          ]
        }
      ]
    },
    {
      "cell_type": "code",
      "source": [
        "#Entrada\n",
        "lado = float(input('digite o lado do quadrado: '))\n",
        "\n",
        "#processamneto\n",
        "area = lado*lado\n",
        "\n",
        "#saida\n",
        "print ('A área do quadrado é igual a', area)\n"
      ],
      "metadata": {
        "colab": {
          "base_uri": "https://localhost:8080/"
        },
        "id": "FBv13kJyxuNQ",
        "outputId": "79267a84-a231-417b-ba83-e0179553ff99"
      },
      "execution_count": 104,
      "outputs": [
        {
          "output_type": "stream",
          "name": "stdout",
          "text": [
            "digite o lado do quadrado: 54\n",
            "A área do quadrado é igual a 2916.0\n"
          ]
        }
      ]
    }
  ]
}